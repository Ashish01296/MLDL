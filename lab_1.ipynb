{
 "cells": [
  {
   "cell_type": "markdown",
   "id": "90f729bd",
   "metadata": {},
   "source": [
    "# Practical 1\n",
    "\n",
    "__AIM:__  Introduction to Python,Numpy,Sklearn"
   ]
  },
  {
   "cell_type": "markdown",
   "id": "74b3cee0",
   "metadata": {},
   "source": [
    "## Table of Contents\n",
    "\n",
    "1. [Variables and Data Types](#variables-and-data-types)\n",
    "2. [Operators](#operators)\n",
    "3. [Control Structures](#control-structures)\n",
    "4. [Functions](#functions)\n",
    "5. [Data Structures](#data-structures)\n",
    "6. [Input and Output](#input-and-output)\n",
    "7. [Modules and Packages](#modules-and-packages)"
   ]
  },
  {
   "cell_type": "markdown",
   "id": "ea71cab4",
   "metadata": {},
   "source": [
    "## 2. Variables and Data Types <a id='variables-and-data-types'></a>\n",
    "\n",
    "### Variables"
   ]
  },
  {
   "cell_type": "code",
   "execution_count": 18,
   "id": "effe6597",
   "metadata": {},
   "outputs": [
    {
     "name": "stdout",
     "output_type": "stream",
     "text": [
      "5\n",
      "Ashish Vinod\n",
      "Hello, World!\n",
      "True\n"
     ]
    }
   ],
   "source": [
    "# Variable assignment\n",
    "x = 5\n",
    "name = \"Ashish Vinod\"\n",
    "\n",
    "# Numeric types\n",
    "integer_num = 10\n",
    "float_num = 3.14\n",
    "\n",
    "# Strings\n",
    "name = \"Ashish Vinod\"\n",
    "sentence = 'Hello, World!'\n",
    "\n",
    "# Boolean\n",
    "is_python_fun = True\n",
    "\n",
    "print(x)\n",
    "print(name)\n",
    "print(sentence)\n",
    "print(is_python_fun)"
   ]
  },
  {
   "cell_type": "markdown",
   "id": "ae46991b",
   "metadata": {},
   "source": [
    "## 3. Operators <a id='operators'></a>"
   ]
  },
  {
   "cell_type": "code",
   "execution_count": 19,
   "id": "41bb4b13",
   "metadata": {},
   "outputs": [
    {
     "name": "stdout",
     "output_type": "stream",
     "text": [
      "Addition: 15\n",
      "Subtraction: 5\n",
      "Multiplication: 50\n",
      "Division: 2.0\n",
      "Integer Division (Modulus): 1\n",
      "Exponentiation: 100\n",
      "Is 10 greater than 5?: True\n",
      "Is 10 equal to 5?: False\n",
      "Is 10 not equal to 5?: True\n",
      "AND condition: False\n",
      "OR condition: True\n",
      "NOT condition: False\n"
     ]
    }
   ],
   "source": [
    "# Arithmetic operators\n",
    "add = 10 + 5\n",
    "sub = 10 - 5\n",
    "multi = 10 * 5\n",
    "div = 10 / 5\n",
    "intdiv = 10 % 3\n",
    "exp = 10 ** 2\n",
    "\n",
    "# Comparison operators\n",
    "is_greater = 10 > 5\n",
    "is_equal = 10 == 5\n",
    "is_not_equal = 10 != 5\n",
    "\n",
    "# Logical operators\n",
    "and_condition = (10 > 5) and (5 < 3)\n",
    "or_condition = (10 > 5) or (5 < 3)\n",
    "not_condition = not (10 > 5)\n",
    "\n",
    "# Print statements\n",
    "print(\"Addition:\", add)\n",
    "print(\"Subtraction:\", sub)\n",
    "print(\"Multiplication:\", multi)\n",
    "print(\"Division:\", div)\n",
    "print(\"Integer Division (Modulus):\", intdiv)\n",
    "print(\"Exponentiation:\", exp)\n",
    "\n",
    "print(\"Is 10 greater than 5?:\", is_greater)\n",
    "print(\"Is 10 equal to 5?:\", is_equal)\n",
    "print(\"Is 10 not equal to 5?:\", is_not_equal)\n",
    "\n",
    "print(\"AND condition:\", and_condition)\n",
    "print(\"OR condition:\", or_condition)\n",
    "print(\"NOT condition:\", not_condition)\n"
   ]
  },
  {
   "cell_type": "markdown",
   "id": "60b139ec",
   "metadata": {},
   "source": [
    "## 4. Control Structures <a id='control-structures'></a>"
   ]
  },
  {
   "cell_type": "code",
   "execution_count": 20,
   "id": "f98021e8",
   "metadata": {},
   "outputs": [
    {
     "name": "stdout",
     "output_type": "stream",
     "text": [
      "x is positive\n",
      "x is odd\n",
      "5\n",
      "4\n",
      "3\n",
      "2\n",
      "1\n",
      "0\n",
      "1\n",
      "2\n",
      "3\n",
      "4\n"
     ]
    }
   ],
   "source": [
    "# If statement\n",
    "if x > 0:\n",
    "    print(\"x is positive\")\n",
    "\n",
    "# If-else statement\n",
    "if x % 2 == 0:\n",
    "    print(\"x is even\")\n",
    "else:\n",
    "    print(\"x is odd\")\n",
    "\n",
    "# While loop\n",
    "while x > 0:\n",
    "    print(x)\n",
    "    x -= 1\n",
    "\n",
    "# For loop\n",
    "for i in range(5):\n",
    "    print(i)"
   ]
  },
  {
   "cell_type": "markdown",
   "id": "6bca1a09",
   "metadata": {},
   "source": [
    "## 5. Functions <a id='functions'></a>"
   ]
  },
  {
   "cell_type": "code",
   "execution_count": 21,
   "id": "5ead174d",
   "metadata": {},
   "outputs": [
    {
     "name": "stdout",
     "output_type": "stream",
     "text": [
      "Hello, Ashish Vinod\n"
     ]
    }
   ],
   "source": [
    "# Function definition\n",
    "def greet(name):\n",
    "    print(\"Hello,\", name)\n",
    "\n",
    "# Function call\n",
    "greet(\"Ashish Vinod\")"
   ]
  },
  {
   "cell_type": "markdown",
   "id": "559ad5e1",
   "metadata": {},
   "source": [
    "## 6. Data Structures <a id='data-structures'></a>"
   ]
  },
  {
   "cell_type": "code",
   "execution_count": 22,
   "id": "39dc91ee",
   "metadata": {},
   "outputs": [
    {
     "name": "stdout",
     "output_type": "stream",
     "text": [
      "List: [1, 2, 3, 4, 5]\n",
      "Tuple: (1, 2, 3)\n",
      "Dictionary: {'a': 1, 'b': 2, 'c': 3}\n"
     ]
    }
   ],
   "source": [
    "# Lists\n",
    "my_list = [1, 2, 3, 4, 5]\n",
    "\n",
    "# Tuples\n",
    "my_tuple = (1, 2, 3)\n",
    "\n",
    "# Dictionaries\n",
    "my_dict = {'a': 1, 'b': 2, 'c': 3}\n",
    "\n",
    "# Print statements\n",
    "print(\"List:\", my_list)\n",
    "print(\"Tuple:\", my_tuple)\n",
    "print(\"Dictionary:\", my_dict)\n"
   ]
  },
  {
   "cell_type": "markdown",
   "id": "1f4a436e",
   "metadata": {},
   "source": [
    "## Operations on Lists\n",
    "### Accessing elements\n"
   ]
  },
  {
   "cell_type": "code",
   "execution_count": 23,
   "id": "7d296c8e",
   "metadata": {},
   "outputs": [
    {
     "name": "stdout",
     "output_type": "stream",
     "text": [
      "1\n",
      "5\n"
     ]
    }
   ],
   "source": [
    "print(my_list[0])  # Output: 1\n",
    "print(my_list[-1]) # Output: 5"
   ]
  },
  {
   "cell_type": "code",
   "execution_count": 24,
   "id": "576fc916",
   "metadata": {},
   "outputs": [
    {
     "name": "stdout",
     "output_type": "stream",
     "text": [
      "[2, 3]\n"
     ]
    }
   ],
   "source": [
    "# Slicing\n",
    "print(my_list[1:3]) # Output: [2, 3]"
   ]
  },
  {
   "cell_type": "code",
   "execution_count": 25,
   "id": "747e2b4c",
   "metadata": {},
   "outputs": [
    {
     "name": "stdout",
     "output_type": "stream",
     "text": [
      "[0, 2, 3, 4, 5]\n"
     ]
    }
   ],
   "source": [
    "# Modifying elements\n",
    "my_list[0] = 0\n",
    "print(my_list) # Output: [0, 2, 3, 4, 5]"
   ]
  },
  {
   "cell_type": "code",
   "execution_count": 26,
   "id": "88272cf9",
   "metadata": {},
   "outputs": [
    {
     "name": "stdout",
     "output_type": "stream",
     "text": [
      "[0, 2, 3, 4, 5, 6]\n"
     ]
    }
   ],
   "source": [
    "# Adding elements\n",
    "my_list.append(6)\n",
    "print(my_list) # Output: [0, 2, 3, 4, 5, 6]"
   ]
  },
  {
   "cell_type": "code",
   "execution_count": 27,
   "id": "2e77dc90",
   "metadata": {},
   "outputs": [
    {
     "name": "stdout",
     "output_type": "stream",
     "text": [
      "[0, 2, 4, 5, 6]\n"
     ]
    }
   ],
   "source": [
    "# Removing elements\n",
    "my_list.remove(3)\n",
    "print(my_list) # Output: [0, 2, 4, 5, 6]"
   ]
  },
  {
   "cell_type": "markdown",
   "id": "f2192ac6",
   "metadata": {},
   "source": [
    "### Operations on Tuple"
   ]
  },
  {
   "cell_type": "code",
   "execution_count": 28,
   "id": "831b3273",
   "metadata": {},
   "outputs": [
    {
     "name": "stdout",
     "output_type": "stream",
     "text": [
      "1\n"
     ]
    }
   ],
   "source": [
    "# Accessing elements\n",
    "print(my_tuple[0]) # Output: 1"
   ]
  },
  {
   "cell_type": "code",
   "execution_count": 29,
   "id": "ee110cc0",
   "metadata": {},
   "outputs": [
    {
     "name": "stdout",
     "output_type": "stream",
     "text": [
      "(2, 3)\n"
     ]
    }
   ],
   "source": [
    "# Slicing\n",
    "print(my_tuple[1:]) # Output: (2, 3)"
   ]
  },
  {
   "cell_type": "markdown",
   "id": "ff7cd26d",
   "metadata": {},
   "source": [
    "### Operations on Dictionaries"
   ]
  },
  {
   "cell_type": "code",
   "execution_count": 30,
   "id": "5ecc435a",
   "metadata": {},
   "outputs": [
    {
     "name": "stdout",
     "output_type": "stream",
     "text": [
      "1\n"
     ]
    }
   ],
   "source": [
    "# Accessing elements\n",
    "print(my_dict['a']) # Output: 1"
   ]
  },
  {
   "cell_type": "code",
   "execution_count": 31,
   "id": "0b16072a",
   "metadata": {},
   "outputs": [
    {
     "name": "stdout",
     "output_type": "stream",
     "text": [
      "{'a': 1, 'b': 2, 'c': 3, 'd': 4}\n"
     ]
    }
   ],
   "source": [
    "# Modifying elements\n",
    "my_dict['d'] = 4\n",
    "print(my_dict)"
   ]
  },
  {
   "cell_type": "code",
   "execution_count": 32,
   "id": "c77416d8",
   "metadata": {},
   "outputs": [
    {
     "name": "stdout",
     "output_type": "stream",
     "text": [
      "{'a': 1, 'c': 3, 'd': 4}\n"
     ]
    }
   ],
   "source": [
    "# Removing elements\n",
    "del my_dict['b']\n",
    "print(my_dict)"
   ]
  },
  {
   "cell_type": "markdown",
   "id": "8c3cde2c",
   "metadata": {},
   "source": [
    "## 7. Input and Output <a id='input-and-output'></a>"
   ]
  },
  {
   "cell_type": "code",
   "execution_count": 33,
   "id": "b1819c09",
   "metadata": {},
   "outputs": [
    {
     "name": "stdin",
     "output_type": "stream",
     "text": [
      "Enter your name:  Ashish Vinod\n"
     ]
    },
    {
     "name": "stdout",
     "output_type": "stream",
     "text": [
      "Hello, Ashish Vinod\n"
     ]
    }
   ],
   "source": [
    "# Input\n",
    "name = input(\"Enter your name: \")\n",
    "\n",
    "# Output\n",
    "print(\"Hello,\", name)"
   ]
  },
  {
   "cell_type": "markdown",
   "id": "8c52aac3",
   "metadata": {},
   "source": [
    "## 8. Modules and Packages <a id='modules-and-packages'></a>"
   ]
  },
  {
   "cell_type": "code",
   "execution_count": 34,
   "id": "d8148bd5",
   "metadata": {},
   "outputs": [
    {
     "name": "stdout",
     "output_type": "stream",
     "text": [
      "4.0\n"
     ]
    }
   ],
   "source": [
    "# Importing modules\n",
    "import math\n",
    "print(math.sqrt(16))"
   ]
  },
  {
   "cell_type": "markdown",
   "id": "11385d07-8eaf-4c32-8c93-5cbf0f3cb074",
   "metadata": {},
   "source": [
    "# Pandas"
   ]
  },
  {
   "cell_type": "code",
   "execution_count": 35,
   "id": "20b9a83d-cfa4-4f9f-bdf8-013ccecd3dba",
   "metadata": {},
   "outputs": [],
   "source": [
    "import pandas as pd\n"
   ]
  },
  {
   "cell_type": "code",
   "execution_count": 36,
   "id": "3cebcf22-1bed-4a95-892e-8036f2a4a42d",
   "metadata": {},
   "outputs": [
    {
     "name": "stdout",
     "output_type": "stream",
     "text": [
      "0    10\n",
      "1    20\n",
      "2    30\n",
      "3    40\n",
      "dtype: int64\n"
     ]
    }
   ],
   "source": [
    "data = [10, 20, 30, 40]\n",
    "s = pd.Series(data)\n",
    "print(s)\n"
   ]
  },
  {
   "cell_type": "code",
   "execution_count": 37,
   "id": "f82679d9-a835-4415-9e42-ee6a9c4307f1",
   "metadata": {},
   "outputs": [
    {
     "name": "stdout",
     "output_type": "stream",
     "text": [
      "   Column1 Column2\n",
      "0        1       A\n",
      "1        2       B\n",
      "2        3       C\n"
     ]
    }
   ],
   "source": [
    "data = {\n",
    "    'Column1': [1, 2, 3],\n",
    "    'Column2': ['A', 'B', 'C']\n",
    "}\n",
    "df = pd.DataFrame(data)\n",
    "print(df)\n"
   ]
  },
  {
   "cell_type": "code",
   "execution_count": 38,
   "id": "f9c1fe9e-9f84-4b0f-bf61-666f13987acd",
   "metadata": {},
   "outputs": [
    {
     "name": "stdout",
     "output_type": "stream",
     "text": [
      "   A  B\n",
      "0  1  4\n",
      "1  2  5\n",
      "2  3  6\n"
     ]
    }
   ],
   "source": [
    "# From a dictionary\n",
    "df = pd.DataFrame({\n",
    "    'A': [1, 2, 3],\n",
    "    'B': [4, 5, 6]\n",
    "})\n",
    "print(df)\n",
    "\n",
    "# From a CSV file\n",
    "df = pd.read_csv('demodata.csv')\n",
    "\n",
    "# From a list of lists\n",
    "df = pd.DataFrame([[1, 2], [3, 4]], columns=['A', 'B'])\n"
   ]
  },
  {
   "cell_type": "code",
   "execution_count": 39,
   "id": "25dc5e50-2358-4447-9eab-8156cb29f802",
   "metadata": {},
   "outputs": [
    {
     "name": "stdout",
     "output_type": "stream",
     "text": [
      "   A  B\n",
      "0  1  2\n",
      "1  3  4\n"
     ]
    }
   ],
   "source": [
    "# Display the first few rows\n",
    "print(df.head())\n",
    "\n"
   ]
  },
  {
   "cell_type": "code",
   "execution_count": 40,
   "id": "60c27e39-08e9-439c-874f-7c2b04cbb1cb",
   "metadata": {},
   "outputs": [
    {
     "name": "stdout",
     "output_type": "stream",
     "text": [
      "   A  B\n",
      "0  1  2\n",
      "1  3  4\n"
     ]
    }
   ],
   "source": [
    "# Display the last few rows\n",
    "print(df.tail())\n"
   ]
  },
  {
   "cell_type": "code",
   "execution_count": 41,
   "id": "985eb436-53cd-4fee-a08f-8eceaa538516",
   "metadata": {},
   "outputs": [
    {
     "name": "stdout",
     "output_type": "stream",
     "text": [
      "(2, 2)\n",
      "<class 'pandas.core.frame.DataFrame'>\n",
      "RangeIndex: 2 entries, 0 to 1\n",
      "Data columns (total 2 columns):\n",
      " #   Column  Non-Null Count  Dtype\n",
      "---  ------  --------------  -----\n",
      " 0   A       2 non-null      int64\n",
      " 1   B       2 non-null      int64\n",
      "dtypes: int64(2)\n",
      "memory usage: 164.0 bytes\n",
      "None\n"
     ]
    }
   ],
   "source": [
    "# Get the shape of the DataFrame\n",
    "print(df.shape)\n",
    "\n",
    "# Get information about the DataFrame\n",
    "print(df.info())\n"
   ]
  },
  {
   "cell_type": "code",
   "execution_count": 42,
   "id": "6370ba82-786a-46b5-ac6a-a6f88e6f0e39",
   "metadata": {},
   "outputs": [
    {
     "name": "stdout",
     "output_type": "stream",
     "text": [
      "              A         B\n",
      "count  2.000000  2.000000\n",
      "mean   2.000000  3.000000\n",
      "std    1.414214  1.414214\n",
      "min    1.000000  2.000000\n",
      "25%    1.500000  2.500000\n",
      "50%    2.000000  3.000000\n",
      "75%    2.500000  3.500000\n",
      "max    3.000000  4.000000\n"
     ]
    }
   ],
   "source": [
    "\n",
    "# Get statistical summaries\n",
    "print(df.describe())\n",
    "\n"
   ]
  },
  {
   "cell_type": "markdown",
   "id": "fc0c93ce-4070-46ad-9d95-81e0cb306a35",
   "metadata": {},
   "source": [
    "# Indexing and Selection"
   ]
  },
  {
   "cell_type": "code",
   "execution_count": 43,
   "id": "f2aa915e-bb90-4ce3-b45e-e2aba491d2cd",
   "metadata": {},
   "outputs": [
    {
     "name": "stdout",
     "output_type": "stream",
     "text": [
      "0    1\n",
      "1    3\n",
      "Name: A, dtype: int64\n"
     ]
    }
   ],
   "source": [
    "print(df['A'])"
   ]
  },
  {
   "cell_type": "code",
   "execution_count": 44,
   "id": "9cefd18a-747f-4f48-9e6d-8ef8c4f409e3",
   "metadata": {},
   "outputs": [
    {
     "name": "stdout",
     "output_type": "stream",
     "text": [
      "   A  B\n",
      "0  1  2\n",
      "1  3  4\n"
     ]
    }
   ],
   "source": [
    "# Select multiple columns\n",
    "\n",
    "print(df[['A', 'B']])\n"
   ]
  },
  {
   "cell_type": "code",
   "execution_count": 45,
   "id": "a85cb331-35d3-425c-a803-65275754c5bc",
   "metadata": {},
   "outputs": [
    {
     "name": "stdout",
     "output_type": "stream",
     "text": [
      "A    1\n",
      "B    2\n",
      "Name: 0, dtype: int64\n"
     ]
    }
   ],
   "source": [
    "# Select rows by index position\n",
    "\n",
    "print(df.iloc[0])\n"
   ]
  },
  {
   "cell_type": "code",
   "execution_count": 46,
   "id": "1c10ab16-609b-42bf-a3b4-8d7efda2a98e",
   "metadata": {},
   "outputs": [
    {
     "name": "stdout",
     "output_type": "stream",
     "text": [
      "A    1\n",
      "B    2\n",
      "Name: 0, dtype: int64\n"
     ]
    }
   ],
   "source": [
    "# Select rows by index label\n",
    "print(df.loc[0])"
   ]
  },
  {
   "cell_type": "code",
   "execution_count": 47,
   "id": "ab8d91b4-f9be-480a-901f-811a9d612587",
   "metadata": {},
   "outputs": [
    {
     "name": "stdout",
     "output_type": "stream",
     "text": [
      "   A  B\n",
      "0  1  2\n",
      "1  3  4\n"
     ]
    }
   ],
   "source": [
    "# Select a range of rows\n",
    "print(df.iloc[0:2])"
   ]
  },
  {
   "cell_type": "markdown",
   "id": "368419a6-cefe-4697-b979-c3c5c384e979",
   "metadata": {},
   "source": [
    "# Data Manipulation"
   ]
  },
  {
   "cell_type": "code",
   "execution_count": 48,
   "id": "8108bb78-6323-4332-83bf-0bbdb01a4aef",
   "metadata": {},
   "outputs": [
    {
     "name": "stdout",
     "output_type": "stream",
     "text": [
      "   Alpha  B\n",
      "0      1  2\n",
      "1      3  4\n"
     ]
    }
   ],
   "source": [
    "# Rename a column\n",
    "df = df.rename(columns={'A': 'Alpha'})\n",
    "print(df)"
   ]
  },
  {
   "cell_type": "code",
   "execution_count": 49,
   "id": "cec5b1b1-57b9-408f-8691-64c52eb41464",
   "metadata": {},
   "outputs": [],
   "source": [
    "# Fill missing values\n",
    "df.fillna(0, inplace=True)"
   ]
  },
  {
   "cell_type": "code",
   "execution_count": 50,
   "id": "22ec0023-13d8-482a-bfea-e51061b83545",
   "metadata": {},
   "outputs": [],
   "source": [
    "# Drop missing values\n",
    "df.dropna(inplace=True)"
   ]
  },
  {
   "cell_type": "code",
   "execution_count": 51,
   "id": "370ab332-8436-499b-9cf3-8ae4fd779248",
   "metadata": {},
   "outputs": [
    {
     "name": "stdout",
     "output_type": "stream",
     "text": [
      "Grouped Data by 'Alpha' with Mean:\n",
      "          B\n",
      "Alpha     \n",
      "1      2.0\n",
      "3      4.0\n",
      "\n",
      "Aggregated Data:\n",
      "       Alpha    B\n",
      "mean    2.0  NaN\n",
      "sum     4.0  NaN\n",
      "max     NaN  4.0\n"
     ]
    }
   ],
   "source": [
    "# Data Aggregation\n",
    "grouped = df.groupby('Alpha').mean()\n",
    "\n",
    "# Aggregate data\n",
    "aggregated = df.agg({\n",
    "    'Alpha': ['mean', 'sum'],\n",
    "    'B': ['max']\n",
    "})\n",
    "\n",
    "# Print statements\n",
    "print(\"Grouped Data by 'Alpha' with Mean:\\n\", grouped)\n",
    "print(\"\\nAggregated Data:\\n\", aggregated)\n"
   ]
  },
  {
   "cell_type": "markdown",
   "id": "4a98673b-087a-46b8-a11d-ae9a006460f4",
   "metadata": {},
   "source": [
    "# Sorting and Filtering"
   ]
  },
  {
   "cell_type": "code",
   "execution_count": 71,
   "id": "5cbc35ba-763c-4c93-8034-2e85904f45e1",
   "metadata": {},
   "outputs": [
    {
     "name": "stdout",
     "output_type": "stream",
     "text": [
      "DataFrame sorted by column 'B':\n",
      "   Alpha  B\n",
      "0      1  2\n",
      "1      3  4\n",
      "\n",
      "DataFrame filtered where 'B' > 5:\n",
      "Empty DataFrame\n",
      "Columns: [Alpha, B]\n",
      "Index: []\n"
     ]
    }
   ],
   "source": [
    "# Sort by a column\n",
    "df_sorted = df.sort_values(by='B')\n",
    "\n",
    "# Filter rows based on condition\n",
    "df_filtered = df[df['B'] > 5]\n",
    "\n",
    "# Print statements\n",
    "print(\"DataFrame sorted by column 'B':\")\n",
    "print(df_sorted)\n",
    "\n",
    "print(\"\\nDataFrame filtered where 'B' > 5:\")\n",
    "print(df_filtered)\n"
   ]
  },
  {
   "cell_type": "code",
   "execution_count": 72,
   "id": "b56a66ab-05c4-422d-8ee4-211ec1283a1b",
   "metadata": {},
   "outputs": [
    {
     "name": "stdout",
     "output_type": "stream",
     "text": [
      "Merged DataFrame:\n",
      "  key  value_x  value_y\n",
      "0   A        1        4\n",
      "1   B        2        5\n",
      "\n",
      "Joined DataFrame:\n",
      "     value_left  value_right\n",
      "key                         \n",
      "A             1          4.0\n",
      "B             2          5.0\n",
      "C             3          NaN\n"
     ]
    }
   ],
   "source": [
    "import pandas as pd\n",
    "\n",
    "# Merging DataFrames\n",
    "df1 = pd.DataFrame({'key': ['A', 'B', 'C'], 'value': [1, 2, 3]})\n",
    "df2 = pd.DataFrame({'key': ['A', 'B', 'D'], 'value': [4, 5, 6]})\n",
    "merged_df = pd.merge(df1, df2, on='key', how='inner')\n",
    "\n",
    "# Joining DataFrames\n",
    "df3 = df1.set_index('key')\n",
    "df4 = df2.set_index('key')\n",
    "joined_df = df3.join(df4, lsuffix='_left', rsuffix='_right')\n",
    "\n",
    "# Print statements\n",
    "print(\"Merged DataFrame:\")\n",
    "print(merged_df)\n",
    "\n",
    "print(\"\\nJoined DataFrame:\")\n",
    "print(joined_df)\n"
   ]
  },
  {
   "cell_type": "code",
   "execution_count": 73,
   "id": "84ec3c1c-63a1-454e-9ab8-97e5cd36d96a",
   "metadata": {},
   "outputs": [
    {
     "data": {
      "text/html": [
       "<div>\n",
       "<style scoped>\n",
       "    .dataframe tbody tr th:only-of-type {\n",
       "        vertical-align: middle;\n",
       "    }\n",
       "\n",
       "    .dataframe tbody tr th {\n",
       "        vertical-align: top;\n",
       "    }\n",
       "\n",
       "    .dataframe thead th {\n",
       "        text-align: right;\n",
       "    }\n",
       "</style>\n",
       "<table border=\"1\" class=\"dataframe\">\n",
       "  <thead>\n",
       "    <tr style=\"text-align: right;\">\n",
       "      <th></th>\n",
       "      <th>value_left</th>\n",
       "      <th>value_right</th>\n",
       "    </tr>\n",
       "    <tr>\n",
       "      <th>key</th>\n",
       "      <th></th>\n",
       "      <th></th>\n",
       "    </tr>\n",
       "  </thead>\n",
       "  <tbody>\n",
       "    <tr>\n",
       "      <th>A</th>\n",
       "      <td>1</td>\n",
       "      <td>4.0</td>\n",
       "    </tr>\n",
       "    <tr>\n",
       "      <th>B</th>\n",
       "      <td>2</td>\n",
       "      <td>5.0</td>\n",
       "    </tr>\n",
       "    <tr>\n",
       "      <th>C</th>\n",
       "      <td>3</td>\n",
       "      <td>NaN</td>\n",
       "    </tr>\n",
       "  </tbody>\n",
       "</table>\n",
       "</div>"
      ],
      "text/plain": [
       "     value_left  value_right\n",
       "key                         \n",
       "A             1          4.0\n",
       "B             2          5.0\n",
       "C             3          NaN"
      ]
     },
     "execution_count": 73,
     "metadata": {},
     "output_type": "execute_result"
    }
   ],
   "source": [
    "joined_df"
   ]
  },
  {
   "cell_type": "markdown",
   "id": "10a71dd9-8ded-42a0-a2a8-10e43f85bb78",
   "metadata": {},
   "source": [
    "# Numpy"
   ]
  },
  {
   "cell_type": "code",
   "execution_count": 55,
   "id": "fafa5e26-ce2f-414c-992e-5a9377e86983",
   "metadata": {},
   "outputs": [],
   "source": [
    "import numpy as np"
   ]
  },
  {
   "cell_type": "code",
   "execution_count": 56,
   "id": "6a9043f6-ad96-46b0-9d17-f0d529b636e4",
   "metadata": {},
   "outputs": [
    {
     "name": "stdout",
     "output_type": "stream",
     "text": [
      "[1 2 3 4 5]\n",
      "[[1 2 3]\n",
      " [4 5 6]]\n"
     ]
    }
   ],
   "source": [
    "# Create a 1D array\n",
    "arr = np.array([1, 2, 3, 4, 5])\n",
    "print(arr)\n",
    "\n",
    "# Create a 2D array (matrix)\n",
    "matrix = np.array([[1, 2, 3], [4, 5, 6]])\n",
    "print(matrix)\n"
   ]
  },
  {
   "cell_type": "code",
   "execution_count": 57,
   "id": "af762404-312e-4830-a098-57f427885d5a",
   "metadata": {},
   "outputs": [
    {
     "name": "stdout",
     "output_type": "stream",
     "text": [
      "[[0. 0. 0. 0.]\n",
      " [0. 0. 0. 0.]\n",
      " [0. 0. 0. 0.]]\n",
      "[[1. 1. 1.]\n",
      " [1. 1. 1.]]\n",
      "[0 1 2 3 4 5 6 7 8 9]\n",
      "[0.   0.25 0.5  0.75 1.  ]\n",
      "[[1. 0. 0.]\n",
      " [0. 1. 0.]\n",
      " [0. 0. 1.]]\n"
     ]
    }
   ],
   "source": [
    "# Create an array of zeros\n",
    "zeros = np.zeros((3, 4))\n",
    "print(zeros)\n",
    "\n",
    "# Create an array of ones\n",
    "ones = np.ones((2, 3))\n",
    "print(ones)\n",
    "\n",
    "# Create an array with a range of values\n",
    "range_arr = np.arange(10)  # From 0 to 9\n",
    "print(range_arr)\n",
    "\n",
    "# Create an array with evenly spaced values\n",
    "linspace_arr = np.linspace(0, 1, 5)  # 5 values from 0 to 1\n",
    "print(linspace_arr)\n",
    "\n",
    "# Create an identity matrix\n",
    "identity_matrix = np.eye(3)\n",
    "print(identity_matrix)\n"
   ]
  },
  {
   "cell_type": "code",
   "execution_count": 58,
   "id": "2c1a6493-e3f3-4b3c-b15d-94889bbde9cd",
   "metadata": {},
   "outputs": [
    {
     "name": "stdout",
     "output_type": "stream",
     "text": [
      "Shape: (2, 3)\n",
      "Dimensions: 2\n",
      "Size: 6\n",
      "Data type: int32\n"
     ]
    }
   ],
   "source": [
    "# Shape of an array\n",
    "print(\"Shape:\", matrix.shape)\n",
    "\n",
    "# Dimensions (rank) of an array\n",
    "print(\"Dimensions:\", matrix.ndim)\n",
    "\n",
    "# Size of an array (total number of elements)\n",
    "print(\"Size:\", matrix.size)\n",
    "\n",
    "# Data type of array elements\n",
    "print(\"Data type:\", matrix.dtype)\n"
   ]
  },
  {
   "cell_type": "code",
   "execution_count": 59,
   "id": "55df5110-31dd-46bc-b2ca-06b4f65bd7ee",
   "metadata": {},
   "outputs": [
    {
     "name": "stdout",
     "output_type": "stream",
     "text": [
      "Element at (1, 2): 6\n",
      "First row: [1 2 3]\n",
      "First column: [1 4]\n",
      "Submatrix:\n",
      " [[2 3]\n",
      " [5 6]]\n"
     ]
    }
   ],
   "source": [
    "# Accessing elements\n",
    "print(\"Element at (1, 2):\", matrix[1, 2])\n",
    "\n",
    "# Slicing\n",
    "print(\"First row:\", matrix[0])\n",
    "print(\"First column:\", matrix[:, 0])\n",
    "\n",
    "# Advanced slicing\n",
    "print(\"Submatrix:\\n\", matrix[0:2, 1:3])\n"
   ]
  },
  {
   "cell_type": "code",
   "execution_count": 60,
   "id": "c66adaf4-7e91-4abb-8ea5-ef3987f2814b",
   "metadata": {},
   "outputs": [
    {
     "name": "stdout",
     "output_type": "stream",
     "text": [
      "Add 5: [6 7 8 9]\n",
      "Multiply by 2: [2 4 6 8]\n",
      "Square root: [1.         1.41421356 1.73205081 2.        ]\n",
      "Exponential: [ 2.71828183  7.3890561  20.08553692 54.59815003]\n",
      "Matrix addition:\n",
      " [[ 6  8]\n",
      " [10 12]]\n",
      "Matrix multiplication:\n",
      " [[19 22]\n",
      " [43 50]]\n"
     ]
    }
   ],
   "source": [
    "# Element-wise operations\n",
    "arr = np.array([1, 2, 3, 4])\n",
    "print(\"Add 5:\", arr + 5)\n",
    "print(\"Multiply by 2:\", arr * 2)\n",
    "\n",
    "# Universal functions (ufuncs)\n",
    "print(\"Square root:\", np.sqrt(arr))\n",
    "print(\"Exponential:\", np.exp(arr))\n",
    "\n",
    "# Matrix operations\n",
    "matrix1 = np.array([[1, 2], [3, 4]])\n",
    "matrix2 = np.array([[5, 6], [7, 8]])\n",
    "\n",
    "# Matrix addition\n",
    "print(\"Matrix addition:\\n\", matrix1 + matrix2)\n",
    "\n",
    "# Matrix multiplication\n",
    "print(\"Matrix multiplication:\\n\", np.dot(matrix1, matrix2))\n"
   ]
  },
  {
   "cell_type": "code",
   "execution_count": 61,
   "id": "cfe0fd6b-c971-49ba-8867-3d2104e3f02a",
   "metadata": {},
   "outputs": [
    {
     "name": "stdout",
     "output_type": "stream",
     "text": [
      "Reshaped array:\n",
      " [[1 2]\n",
      " [3 4]]\n",
      "Flattened array: [1 2 3 4]\n",
      "Concatenated array:\n",
      " [[1 2]\n",
      " [3 4]\n",
      " [5 6]\n",
      " [7 8]]\n",
      "Split arrays: [array([0, 1, 2, 3, 4]), array([5, 6, 7, 8, 9])]\n"
     ]
    }
   ],
   "source": [
    "# Reshape an array\n",
    "reshaped = arr.reshape((2, 2))\n",
    "print(\"Reshaped array:\\n\", reshaped)\n",
    "\n",
    "# Flatten an array\n",
    "flattened = reshaped.flatten()\n",
    "print(\"Flattened array:\", flattened)\n",
    "\n",
    "# Concatenate arrays\n",
    "concat = np.concatenate([matrix1, matrix2], axis=0)\n",
    "print(\"Concatenated array:\\n\", concat)\n",
    "\n",
    "# Split arrays\n",
    "split = np.split(range_arr, 2)\n",
    "print(\"Split arrays:\", split)\n",
    "\n"
   ]
  },
  {
   "cell_type": "code",
   "execution_count": 62,
   "id": "53b163dd-b0d6-4adc-9c0b-37f5625a6064",
   "metadata": {},
   "outputs": [
    {
     "name": "stdout",
     "output_type": "stream",
     "text": [
      "Mean: 2.5\n",
      "Median: 2.5\n",
      "Standard deviation: 1.118033988749895\n",
      "Sum: 10\n"
     ]
    }
   ],
   "source": [
    "# Mean\n",
    "print(\"Mean:\", np.mean(arr))\n",
    "\n",
    "# Median\n",
    "print(\"Median:\", np.median(arr))\n",
    "\n",
    "# Standard deviation\n",
    "print(\"Standard deviation:\", np.std(arr))\n",
    "\n",
    "# Sum\n",
    "print(\"Sum:\", np.sum(arr))\n"
   ]
  },
  {
   "cell_type": "code",
   "execution_count": 63,
   "id": "22eb032c-c7f6-4516-9605-2a17d5fc925a",
   "metadata": {},
   "outputs": [
    {
     "name": "stdout",
     "output_type": "stream",
     "text": [
      "Determinant: -2.0000000000000004\n",
      "Eigenvalues: [-0.37228132  5.37228132]\n",
      "Eigenvectors:\n",
      " [[-0.82456484 -0.41597356]\n",
      " [ 0.56576746 -0.90937671]]\n"
     ]
    }
   ],
   "source": [
    "# Determinant\n",
    "from numpy.linalg import det\n",
    "matrix = np.array([[1, 2], [3, 4]])\n",
    "print(\"Determinant:\", det(matrix))\n",
    "\n",
    "# Eigenvalues\n",
    "from numpy.linalg import eig\n",
    "eigenvalues, eigenvectors = eig(matrix)\n",
    "print(\"Eigenvalues:\", eigenvalues)\n",
    "print(\"Eigenvectors:\\n\", eigenvectors)\n"
   ]
  },
  {
   "cell_type": "code",
   "execution_count": 64,
   "id": "bf7734fa-9740-4b86-abe0-094a4d17e9f1",
   "metadata": {},
   "outputs": [
    {
     "name": "stdout",
     "output_type": "stream",
     "text": [
      "Random integers:\n",
      " [[8 4 2]\n",
      " [7 0 7]]\n",
      "Random floats:\n",
      " [[0.48935582 0.07169602 0.04677588]\n",
      " [0.8150443  0.11056826 0.07216199]\n",
      " [0.14045299 0.59791477 0.5208379 ]]\n"
     ]
    }
   ],
   "source": [
    "# Random integers\n",
    "random_ints = np.random.randint(0, 10, size=(2, 3))\n",
    "print(\"Random integers:\\n\", random_ints)\n",
    "\n",
    "# Random floats\n",
    "random_floats = np.random.rand(3, 3)\n",
    "print(\"Random floats:\\n\", random_floats)\n",
    "\n",
    "# Seed for reproducibility\n",
    "np.random.seed(0)\n"
   ]
  },
  {
   "cell_type": "markdown",
   "id": "f119439f-12c9-47c2-b306-360dce13b6e3",
   "metadata": {},
   "source": [
    "# Scikit-Learn"
   ]
  },
  {
   "cell_type": "code",
   "execution_count": 65,
   "id": "9d35554f-30b3-49b9-a894-489d22adcf29",
   "metadata": {},
   "outputs": [],
   "source": [
    "import numpy as np\n",
    "import pandas as pd\n",
    "from sklearn.model_selection import train_test_split\n",
    "from sklearn.preprocessing import StandardScaler, LabelEncoder\n",
    "from sklearn.metrics import accuracy_score, confusion_matrix, classification_report\n"
   ]
  },
  {
   "cell_type": "code",
   "execution_count": 66,
   "id": "0bceb15a-67fc-4993-8f0d-627a88ac1c40",
   "metadata": {},
   "outputs": [],
   "source": [
    "from sklearn.model_selection import train_test_split\n",
    "\n",
    "# Sample data\n",
    "X = np.array([[1, 2], [3, 4], [5, 6], [7, 8]])\n",
    "y = np.array([0, 1, 0, 1])\n",
    "\n",
    "# Split data into training and testing sets\n",
    "X_train, X_test, y_train, y_test = train_test_split(X, y, test_size=0.3, random_state=42)\n"
   ]
  },
  {
   "cell_type": "code",
   "execution_count": 67,
   "id": "71e74b98-aae8-422e-bff4-636baf8a8136",
   "metadata": {},
   "outputs": [],
   "source": [
    "#Feature Scaling\n",
    "from sklearn.preprocessing import StandardScaler\n",
    "\n",
    "scaler = StandardScaler()\n",
    "X_train_scaled = scaler.fit_transform(X_train)\n",
    "X_test_scaled = scaler.transform(X_test)\n"
   ]
  },
  {
   "cell_type": "code",
   "execution_count": 68,
   "id": "17ccca72-68a4-4187-8266-70459233f1d1",
   "metadata": {},
   "outputs": [],
   "source": [
    "#Label Encoder\n",
    "from sklearn.preprocessing import LabelEncoder\n",
    "\n",
    "le = LabelEncoder()\n",
    "y_encoded = le.fit_transform(y)\n"
   ]
  },
  {
   "cell_type": "code",
   "execution_count": 69,
   "id": "615ae73b-3c59-4639-b50c-e5521f32404d",
   "metadata": {},
   "outputs": [
    {
     "name": "stdout",
     "output_type": "stream",
     "text": [
      "Classes in training data: [0 1]\n",
      "Predictions: [0 1]\n"
     ]
    }
   ],
   "source": [
    "import numpy as np\n",
    "from sklearn.model_selection import train_test_split\n",
    "from sklearn.linear_model import LogisticRegression\n",
    "\n",
    "# Sample data (replace with your actual data)\n",
    "X = np.array([[1, 2], [3, 4], [5, 6], [7, 8]])\n",
    "y = np.array([0, 1, 0, 1])\n",
    "\n",
    "# Split the data\n",
    "X_train, X_test, y_train, y_test = train_test_split(X, y, test_size=0.3, random_state=42, stratify=y)\n",
    "\n",
    "# Check unique classes in the training data\n",
    "print(\"Classes in training data:\", np.unique(y_train))\n",
    "\n",
    "# Initialize and train the model\n",
    "model = LogisticRegression()\n",
    "model.fit(X_train, y_train)\n",
    "\n",
    "# Make predictions\n",
    "y_pred = model.predict(X_test)\n",
    "print(\"Predictions:\", y_pred)\n"
   ]
  },
  {
   "cell_type": "code",
   "execution_count": 70,
   "id": "8b51bee9-d05f-40c1-aba4-46127c481282",
   "metadata": {},
   "outputs": [
    {
     "name": "stdout",
     "output_type": "stream",
     "text": [
      "Accuracy: 0.0\n",
      "Confusion Matrix:\n",
      " [[0 1]\n",
      " [1 0]]\n",
      "Classification Report:\n",
      "               precision    recall  f1-score   support\n",
      "\n",
      "           0       0.00      0.00      0.00       1.0\n",
      "           1       0.00      0.00      0.00       1.0\n",
      "\n",
      "    accuracy                           0.00       2.0\n",
      "   macro avg       0.00      0.00      0.00       2.0\n",
      "weighted avg       0.00      0.00      0.00       2.0\n",
      "\n"
     ]
    }
   ],
   "source": [
    "# Model Evaluation\n",
    "accuracy = accuracy_score(y_test, y_pred)\n",
    "print(\"Accuracy:\", accuracy)\n",
    "\n",
    "conf_matrix = confusion_matrix(y_test, y_pred)\n",
    "print(\"Confusion Matrix:\\n\", conf_matrix)\n",
    "\n",
    "class_report = classification_report(y_test, y_pred)\n",
    "print(\"Classification Report:\\n\", class_report)"
   ]
  },
  {
   "cell_type": "markdown",
   "id": "05b1db8a-fb59-4f29-bd71-c658af43cbfb",
   "metadata": {},
   "source": [
    "# IT154 Ashish Vinod"
   ]
  }
 ],
 "metadata": {
  "kernelspec": {
   "display_name": "Python 3 (ipykernel)",
   "language": "python",
   "name": "python3"
  },
  "language_info": {
   "codemirror_mode": {
    "name": "ipython",
    "version": 3
   },
   "file_extension": ".py",
   "mimetype": "text/x-python",
   "name": "python",
   "nbconvert_exporter": "python",
   "pygments_lexer": "ipython3",
   "version": "3.11.5"
  }
 },
 "nbformat": 4,
 "nbformat_minor": 5
}
