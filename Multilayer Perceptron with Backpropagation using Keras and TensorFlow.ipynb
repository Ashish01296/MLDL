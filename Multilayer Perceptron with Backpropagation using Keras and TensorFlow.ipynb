{
 "cells": [
  {
   "cell_type": "markdown",
   "id": "c582a855-08a8-42ba-b8ad-9a49db28db8d",
   "metadata": {},
   "source": [
    "# Practical 6\n",
    "# Multilayer Perceptron with Backpropagation using Keras and TensorFlow"
   ]
  },
  {
   "cell_type": "code",
   "execution_count": 19,
   "id": "11f79619-b596-49da-bf8c-0cd67bd0a07c",
   "metadata": {},
   "outputs": [],
   "source": [
    "#Import statements\n",
    "# using inbuilt dataset MNIST dataset ( handwritten digits 0-9)\n",
    "import tensorflow as tf\n",
    "from tensorflow.keras import Sequential\n",
    "from tensorflow.keras.layers import Dense, Flatten\n",
    "from tensorflow.keras.datasets import mnist\n",
    "from tensorflow.keras.utils import to_categorical\n"
   ]
  },
  {
   "cell_type": "code",
   "execution_count": 20,
   "id": "a4f62fa8-29ac-4e9e-80a8-d4759debd077",
   "metadata": {},
   "outputs": [],
   "source": [
    "# Load and Prepare the Data\n",
    "# Load the MNIST dataset\n",
    "(x_train, y_train), (x_test, y_test) = mnist.load_data()\n",
    "\n",
    "# Normalize the images to [0, 1] range\n",
    "x_train = x_train.astype('float32') / 255\n",
    "x_test = x_test.astype('float32') / 255\n",
    "\n",
    "# Convert class vectors to binary class matrices (one-hot encoding)\n",
    "y_train = to_categorical(y_train, 10)\n",
    "y_test = to_categorical(y_test, 10)\n"
   ]
  },
  {
   "cell_type": "code",
   "execution_count": 21,
   "id": "cf8f1b5a-f73a-469f-933b-8e0ac3086058",
   "metadata": {},
   "outputs": [],
   "source": [
    "# build MLP Model\n",
    "# Build a simple MLP model\n",
    "model = Sequential([\n",
    "    Flatten(input_shape=(28, 28)),  # Flatten the 28x28 images into 1D vectors\n",
    "    Dense(128, activation='relu'),  # First hidden layer with 128 neurons and ReLU activation\n",
    "    Dense(64, activation='relu'),   # Second hidden layer with 64 neurons and ReLU activation\n",
    "    Dense(10, activation='softmax') # Output layer with 10 neurons (one per class) and softmax activation\n",
    "])\n"
   ]
  },
  {
   "cell_type": "code",
   "execution_count": 22,
   "id": "7c30c68e-55d8-4afe-bdb5-cd28e239e93f",
   "metadata": {},
   "outputs": [],
   "source": [
    "#Compile the Model\n",
    "model.compile(optimizer='sgd',               # sgd optimizer\n",
    "              loss='categorical_crossentropy', # Loss function for multi-class classification\n",
    "              metrics=['accuracy'])            # Metric to monitor\n"
   ]
  },
  {
   "cell_type": "code",
   "execution_count": 23,
   "id": "309ccd5a-5b85-4bb6-8a54-a2f82daa063f",
   "metadata": {},
   "outputs": [
    {
     "name": "stdout",
     "output_type": "stream",
     "text": [
      "Epoch 1/10\n",
      "\u001b[1m1500/1500\u001b[0m \u001b[32m━━━━━━━━━━━━━━━━━━━━\u001b[0m\u001b[37m\u001b[0m \u001b[1m2s\u001b[0m 1ms/step - accuracy: 0.6381 - loss: 1.2421 - val_accuracy: 0.9058 - val_loss: 0.3398\n",
      "Epoch 2/10\n",
      "\u001b[1m1500/1500\u001b[0m \u001b[32m━━━━━━━━━━━━━━━━━━━━\u001b[0m\u001b[37m\u001b[0m \u001b[1m2s\u001b[0m 1ms/step - accuracy: 0.9023 - loss: 0.3458 - val_accuracy: 0.9213 - val_loss: 0.2727\n",
      "Epoch 3/10\n",
      "\u001b[1m1500/1500\u001b[0m \u001b[32m━━━━━━━━━━━━━━━━━━━━\u001b[0m\u001b[37m\u001b[0m \u001b[1m2s\u001b[0m 1ms/step - accuracy: 0.9199 - loss: 0.2758 - val_accuracy: 0.9300 - val_loss: 0.2359\n",
      "Epoch 4/10\n",
      "\u001b[1m1500/1500\u001b[0m \u001b[32m━━━━━━━━━━━━━━━━━━━━\u001b[0m\u001b[37m\u001b[0m \u001b[1m2s\u001b[0m 1ms/step - accuracy: 0.9297 - loss: 0.2390 - val_accuracy: 0.9404 - val_loss: 0.2098\n",
      "Epoch 5/10\n",
      "\u001b[1m1500/1500\u001b[0m \u001b[32m━━━━━━━━━━━━━━━━━━━━\u001b[0m\u001b[37m\u001b[0m \u001b[1m2s\u001b[0m 1ms/step - accuracy: 0.9408 - loss: 0.2111 - val_accuracy: 0.9473 - val_loss: 0.1887\n",
      "Epoch 6/10\n",
      "\u001b[1m1500/1500\u001b[0m \u001b[32m━━━━━━━━━━━━━━━━━━━━\u001b[0m\u001b[37m\u001b[0m \u001b[1m2s\u001b[0m 1ms/step - accuracy: 0.9455 - loss: 0.1866 - val_accuracy: 0.9505 - val_loss: 0.1753\n",
      "Epoch 7/10\n",
      "\u001b[1m1500/1500\u001b[0m \u001b[32m━━━━━━━━━━━━━━━━━━━━\u001b[0m\u001b[37m\u001b[0m \u001b[1m2s\u001b[0m 1ms/step - accuracy: 0.9509 - loss: 0.1714 - val_accuracy: 0.9524 - val_loss: 0.1692\n",
      "Epoch 8/10\n",
      "\u001b[1m1500/1500\u001b[0m \u001b[32m━━━━━━━━━━━━━━━━━━━━\u001b[0m\u001b[37m\u001b[0m \u001b[1m2s\u001b[0m 1ms/step - accuracy: 0.9544 - loss: 0.1571 - val_accuracy: 0.9558 - val_loss: 0.1568\n",
      "Epoch 9/10\n",
      "\u001b[1m1500/1500\u001b[0m \u001b[32m━━━━━━━━━━━━━━━━━━━━\u001b[0m\u001b[37m\u001b[0m \u001b[1m2s\u001b[0m 989us/step - accuracy: 0.9582 - loss: 0.1436 - val_accuracy: 0.9567 - val_loss: 0.1487\n",
      "Epoch 10/10\n",
      "\u001b[1m1500/1500\u001b[0m \u001b[32m━━━━━━━━━━━━━━━━━━━━\u001b[0m\u001b[37m\u001b[0m \u001b[1m2s\u001b[0m 1ms/step - accuracy: 0.9613 - loss: 0.1316 - val_accuracy: 0.9614 - val_loss: 0.1401\n"
     ]
    },
    {
     "data": {
      "text/plain": [
       "<keras.src.callbacks.history.History at 0x1b73e9b28d0>"
      ]
     },
     "execution_count": 23,
     "metadata": {},
     "output_type": "execute_result"
    }
   ],
   "source": [
    "# Train the Model\n",
    "# Train the model with backpropagation\n",
    "model.fit(x_train, y_train, epochs=10, batch_size=32, validation_split=0.2)\n"
   ]
  },
  {
   "cell_type": "code",
   "execution_count": 27,
   "id": "35ac3c37-dda6-495d-a6e7-2938677e6ee8",
   "metadata": {},
   "outputs": [
    {
     "name": "stdout",
     "output_type": "stream",
     "text": [
      "\u001b[1m313/313\u001b[0m \u001b[32m━━━━━━━━━━━━━━━━━━━━\u001b[0m\u001b[37m\u001b[0m \u001b[1m0s\u001b[0m 749us/step - accuracy: 0.9528 - loss: 0.1633\n",
      "Test accuracy: 0.9585\n"
     ]
    }
   ],
   "source": [
    "# Evaluate the Model\n",
    "# Evaluate the model on the test dataset\n",
    "test_loss, test_acc = model.evaluate(x_test, y_test)\n",
    "print(f'Test accuracy: {test_acc:.4f}')w\n"
   ]
  },
  {
   "cell_type": "markdown",
   "id": "2059a6fe-c0ec-4f2b-9393-292a013c497e",
   "metadata": {},
   "source": [
    "# Prediction"
   ]
  },
  {
   "cell_type": "code",
   "execution_count": 28,
   "id": "6dbb632b-b54c-4eed-b010-52674298663a",
   "metadata": {},
   "outputs": [
    {
     "name": "stdout",
     "output_type": "stream",
     "text": [
      "\u001b[1m1/1\u001b[0m \u001b[32m━━━━━━━━━━━━━━━━━━━━\u001b[0m\u001b[37m\u001b[0m \u001b[1m0s\u001b[0m 48ms/step\n",
      "Predicted class for sample 0: 7\n",
      "Actual class for sample 0: 7\n"
     ]
    },
    {
     "data": {
      "image/png": "[encoded data removed]",
      "text/plain": [
       "<Figure size 640x480 with 1 Axes>"
      ]
     },
     "metadata": {},
     "output_type": "display_data"
    }
   ],
   "source": [
    "import numpy as np\n",
    "import matplotlib.pyplot as plt\n",
    "\n",
    "# Assuming the previous code is already executed, we can directly proceed to prediction.\n",
    "\n",
    "# Select a single sample from the test set\n",
    "sample_index = 0  # Change this index to test different samples\n",
    "x_sample = x_test[sample_index:sample_index + 1]  # Ensure the shape is (1, 28, 28)\n",
    "\n",
    "# Predict the class of the sample\n",
    "prediction = model.predict(x_sample)\n",
    "\n",
    "# Convert the prediction to a class label\n",
    "predicted_class = np.argmax(prediction, axis=1)\n",
    "actual_class = np.argmax(y_test[sample_index])\n",
    "\n",
    "# Print the prediction results\n",
    "print(f'Predicted class for sample {sample_index}: {predicted_class[0]}')\n",
    "print(f'Actual class for sample {sample_index}: {actual_class}')\n",
    "\n",
    "# Display the sample image\n",
    "plt.imshow(x_test[sample_index], cmap='gray')\n",
    "plt.title(f'Actual class: {actual_class}, Predicted class: {predicted_class[0]}')\n",
    "plt.show()\n"
   ]
  },
  {
   "cell_type": "markdown",
   "id": "2861a222-2c8b-48a7-a0ac-ae6ca22d6814",
   "metadata": {},
   "source": [
    "# By Ashish Vinod IT154"
   ]
  }
 ],
 "metadata": {
  "kernelspec": {
   "display_name": "Python 3 (ipykernel)",
   "language": "python",
   "name": "python3"
  },
  "language_info": {
   "codemirror_mode": {
    "name": "ipython",
    "version": 3
   },
   "file_extension": ".py",
   "mimetype": "text/x-python",
   "name": "python",
   "nbconvert_exporter": "python",
   "pygments_lexer": "ipython3",
   "version": "3.11.5"
  }
 },
 "nbformat": 4,
 "nbformat_minor": 5
}
