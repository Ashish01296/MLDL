{
 "cells": [
  {
   "cell_type": "markdown",
   "id": "35105baa-51c9-474a-ae60-a7081459292a",
   "metadata": {},
   "source": [
    "# Practical 3\n",
    "# Aim: Decision Tree Using Sklearn(Classification)"
   ]
  },
  {
   "cell_type": "code",
   "execution_count": null,
   "id": "7112f5bd-878c-4c48-bdc3-bcb186d55c98",
   "metadata": {},
   "outputs": [],
   "source": []
  }
 ],
 "metadata": {
  "kernelspec": {
   "display_name": "Python 3 (ipykernel)",
   "language": "python",
   "name": "python3"
  },
  "language_info": {
   "codemirror_mode": {
    "name": "ipython",
    "version": 3
   },
   "file_extension": ".py",
   "mimetype": "text/x-python",
   "name": "python",
   "nbconvert_exporter": "python",
   "pygments_lexer": "ipython3",
   "version": "3.11.5"
  }
 },
 "nbformat": 4,
 "nbformat_minor": 5
}
